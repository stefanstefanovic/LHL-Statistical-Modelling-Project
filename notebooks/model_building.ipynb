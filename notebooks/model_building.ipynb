{
 "cells": [
  {
   "attachments": {},
   "cell_type": "markdown",
   "metadata": {},
   "source": [
    "Build a regression model."
   ]
  },
  {
   "cell_type": "code",
   "execution_count": 36,
   "metadata": {},
   "outputs": [],
   "source": [
    "import pandas as pd\n",
    "import statsmodels.api as sm"
   ]
  },
  {
   "attachments": {},
   "cell_type": "markdown",
   "metadata": {},
   "source": [
    "#### Model 1 - Yelp & Foursquare data"
   ]
  },
  {
   "cell_type": "code",
   "execution_count": 37,
   "metadata": {},
   "outputs": [
    {
     "name": "stdout",
     "output_type": "stream",
     "text": [
      "                            OLS Regression Results                            \n",
      "==============================================================================\n",
      "Dep. Variable:             free_bikes   R-squared:                       0.092\n",
      "Model:                            OLS   Adj. R-squared:                  0.047\n",
      "Method:                 Least Squares   F-statistic:                     2.047\n",
      "Date:                Mon, 05 Jun 2023   Prob (F-statistic):             0.0366\n",
      "Time:                        15:13:25   Log-Likelihood:                -625.34\n",
      "No. Observations:                 191   AIC:                             1271.\n",
      "Df Residuals:                     181   BIC:                             1303.\n",
      "Df Model:                           9                                         \n",
      "Covariance Type:            nonrobust                                         \n",
      "===========================================================================================\n",
      "                              coef    std err          t      P>|t|      [0.025      0.975]\n",
      "-------------------------------------------------------------------------------------------\n",
      "const                     990.5679   1567.721      0.632      0.528   -2102.792    4083.928\n",
      "station_no                  0.0009      0.002      0.385      0.700      -0.004       0.005\n",
      "latitude                  -23.7312     14.850     -1.598      0.112     -53.032       5.569\n",
      "longitude                  -1.3271     17.231     -0.077      0.939     -35.327      32.673\n",
      "avg_rating                  1.0747      1.530      0.702      0.483      -1.944       4.094\n",
      "total_review_count          0.0089      0.007      1.272      0.205      -0.005       0.023\n",
      "POI                         0.3028      0.180      1.683      0.094      -0.052       0.658\n",
      "avg_rating_fsq             -0.8950      0.701     -1.277      0.203      -2.278       0.488\n",
      "total_ratings_count_fsq     0.0058      0.002      2.357      0.020       0.001       0.011\n",
      "POI_fsq                    -0.5337      0.461     -1.158      0.248      -1.443       0.375\n",
      "==============================================================================\n",
      "Omnibus:                       42.392   Durbin-Watson:                   2.057\n",
      "Prob(Omnibus):                  0.000   Jarque-Bera (JB):               65.671\n",
      "Skew:                           1.217   Prob(JB):                     5.49e-15\n",
      "Kurtosis:                       4.525   Cond. No.                     1.50e+06\n",
      "==============================================================================\n",
      "\n",
      "Notes:\n",
      "[1] Standard Errors assume that the covariance matrix of the errors is correctly specified.\n",
      "[2] The condition number is large, 1.5e+06. This might indicate that there are\n",
      "strong multicollinearity or other numerical problems.\n"
     ]
    }
   ],
   "source": [
    "#import data from csv\n",
    "merged_df = pd.read_csv('data/merged_df.csv')\n",
    "#drop rows with null values\n",
    "merged_df.dropna(inplace=True)\n",
    "\n",
    "#run full model\n",
    "y = merged_df['free_bikes']\n",
    "X = merged_df.drop(['name', 'free_bikes', 'empty_slots', 'slots'], axis=1)\n",
    "X = sm.add_constant(X) #adds a column of 1's so the model will contain an intercept\n",
    "\n",
    "model = sm.OLS(y, X)\n",
    "results = model.fit()\n",
    "print(results.summary())"
   ]
  },
  {
   "attachments": {},
   "cell_type": "markdown",
   "metadata": {},
   "source": [
    "#### Model 2 - Only Foursquare data"
   ]
  },
  {
   "cell_type": "code",
   "execution_count": 38,
   "metadata": {},
   "outputs": [
    {
     "name": "stdout",
     "output_type": "stream",
     "text": [
      "                            OLS Regression Results                            \n",
      "==============================================================================\n",
      "Dep. Variable:             free_bikes   R-squared:                       0.049\n",
      "Model:                            OLS   Adj. R-squared:                  0.025\n",
      "Method:                 Least Squares   F-statistic:                     2.017\n",
      "Date:                Mon, 05 Jun 2023   Prob (F-statistic):             0.0643\n",
      "Time:                        15:13:33   Log-Likelihood:                -781.29\n",
      "No. Observations:                 241   AIC:                             1577.\n",
      "Df Residuals:                     234   BIC:                             1601.\n",
      "Df Model:                           6                                         \n",
      "Covariance Type:            nonrobust                                         \n",
      "===========================================================================================\n",
      "                              coef    std err          t      P>|t|      [0.025      0.975]\n",
      "-------------------------------------------------------------------------------------------\n",
      "const                    1850.6452    822.860      2.249      0.025     229.484    3471.806\n",
      "station_no                  0.0018      0.002      0.996      0.320      -0.002       0.005\n",
      "latitude                  -11.7354     10.733     -1.093      0.275     -32.882       9.411\n",
      "longitude                  17.7370      8.417      2.107      0.036       1.155      34.319\n",
      "avg_rating_fsq             -0.5472      0.582     -0.940      0.348      -1.694       0.599\n",
      "total_ratings_count_fsq     0.0048      0.002      2.248      0.025       0.001       0.009\n",
      "POI_fsq                    -0.3829      0.387     -0.988      0.324      -1.146       0.380\n",
      "==============================================================================\n",
      "Omnibus:                       57.717   Durbin-Watson:                   2.056\n",
      "Prob(Omnibus):                  0.000   Jarque-Bera (JB):              100.181\n",
      "Skew:                           1.282   Prob(JB):                     1.76e-22\n",
      "Kurtosis:                       4.844   Cond. No.                     9.19e+05\n",
      "==============================================================================\n",
      "\n",
      "Notes:\n",
      "[1] Standard Errors assume that the covariance matrix of the errors is correctly specified.\n",
      "[2] The condition number is large, 9.19e+05. This might indicate that there are\n",
      "strong multicollinearity or other numerical problems.\n"
     ]
    }
   ],
   "source": [
    "#import data from csv\n",
    "merged_df_fsq = pd.read_csv('data/merged_df.csv')\n",
    "#drop columns from Yelp dataframe\n",
    "merged_df_fsq.drop(['name', 'avg_rating', 'total_review_count',\t'POI'], axis=1, inplace=True)\n",
    "#drop rows with null values\n",
    "merged_df_fsq.dropna(inplace=True)\n",
    "\n",
    "#run full model\n",
    "y_fsq = merged_df_fsq['free_bikes']\n",
    "X_fsq = merged_df_fsq.drop(['free_bikes', 'empty_slots', 'slots'], axis=1)\n",
    "X_fsq = sm.add_constant(X_fsq) #adds a column of 1's so the model will contain an intercept\n",
    "\n",
    "model = sm.OLS(y_fsq, X_fsq)\n",
    "results = model.fit()\n",
    "print(results.summary())"
   ]
  },
  {
   "attachments": {},
   "cell_type": "markdown",
   "metadata": {},
   "source": [
    "#### Model 3 - only Yelp data"
   ]
  },
  {
   "cell_type": "code",
   "execution_count": 39,
   "metadata": {},
   "outputs": [
    {
     "name": "stdout",
     "output_type": "stream",
     "text": [
      "                            OLS Regression Results                            \n",
      "==============================================================================\n",
      "Dep. Variable:             free_bikes   R-squared:                       0.091\n",
      "Model:                            OLS   Adj. R-squared:                  0.082\n",
      "Method:                 Least Squares   F-statistic:                     9.639\n",
      "Date:                Mon, 05 Jun 2023   Prob (F-statistic):           4.02e-10\n",
      "Time:                        15:13:41   Log-Likelihood:                -1907.7\n",
      "No. Observations:                 584   AIC:                             3829.\n",
      "Df Residuals:                     577   BIC:                             3860.\n",
      "Df Model:                           6                                         \n",
      "Covariance Type:            nonrobust                                         \n",
      "======================================================================================\n",
      "                         coef    std err          t      P>|t|      [0.025      0.975]\n",
      "--------------------------------------------------------------------------------------\n",
      "const               3024.0370    826.461      3.659      0.000    1400.799    4647.275\n",
      "station_no            -0.0007      0.001     -0.521      0.602      -0.003       0.002\n",
      "latitude             -39.3574      8.585     -4.585      0.000     -56.218     -22.497\n",
      "longitude             16.7528      9.306      1.800      0.072      -1.525      35.031\n",
      "avg_rating             1.4531      0.700      2.075      0.038       0.077       2.829\n",
      "total_review_count     0.0106      0.004      2.538      0.011       0.002       0.019\n",
      "POI                    0.2515      0.099      2.546      0.011       0.057       0.446\n",
      "==============================================================================\n",
      "Omnibus:                      136.778   Durbin-Watson:                   1.940\n",
      "Prob(Omnibus):                  0.000   Jarque-Bera (JB):              285.454\n",
      "Skew:                           1.274   Prob(JB):                     1.03e-62\n",
      "Kurtosis:                       5.288   Cond. No.                     1.38e+06\n",
      "==============================================================================\n",
      "\n",
      "Notes:\n",
      "[1] Standard Errors assume that the covariance matrix of the errors is correctly specified.\n",
      "[2] The condition number is large, 1.38e+06. This might indicate that there are\n",
      "strong multicollinearity or other numerical problems.\n"
     ]
    }
   ],
   "source": [
    "#import data from csv\n",
    "merged_df_yelp = pd.read_csv('data/merged_df.csv')\n",
    "#drop columns from Yelp dataframe\n",
    "merged_df_yelp.drop(['name', 'avg_rating_fsq', 'total_ratings_count_fsq', 'POI_fsq'], axis=1, inplace=True)\n",
    "#drop rows with null values\n",
    "merged_df_yelp.dropna(inplace=True)\n",
    "\n",
    "#run full model\n",
    "y_yelp = merged_df_yelp['free_bikes']\n",
    "X_yelp = merged_df_yelp.drop(['free_bikes', 'empty_slots', 'slots'], axis=1)\n",
    "X_yelp = sm.add_constant(X_yelp) #adds a column of 1's so the model will contain an intercept\n",
    "\n",
    "model = sm.OLS(y_yelp, X_yelp)\n",
    "results = model.fit()\n",
    "print(results.summary())"
   ]
  },
  {
   "attachments": {},
   "cell_type": "markdown",
   "metadata": {},
   "source": [
    "Provide model output and an interpretation of the results. "
   ]
  },
  {
   "attachments": {},
   "cell_type": "markdown",
   "metadata": {},
   "source": [
    "The project utilized Ordinary Least Squares (OLS) regression models to predict the number of available bikes in bike stations. However, the results from all three models indicated that none of the variables were successful in accurately predicting the availability of bikes in specific bike stations. Interestingly, among the three models, the one incorporating data solely from Yelp yielded the best performance."
   ]
  },
  {
   "attachments": {},
   "cell_type": "markdown",
   "metadata": {},
   "source": [
    "# Stretch"
   ]
  },
  {
   "attachments": {},
   "cell_type": "markdown",
   "metadata": {},
   "source": [
    "How can you turn the regression model into a classification model?"
   ]
  },
  {
   "attachments": {},
   "cell_type": "markdown",
   "metadata": {},
   "source": [
    "Changing the continuous variable 'Bikes available' to a categorical one where we can either use dichotomous categories, no bikes available and bikes available, or multiple categories, no bikes available, some bikes available, and many bikes available."
   ]
  }
 ],
 "metadata": {
  "kernelspec": {
   "display_name": "LHL_Bootcamp",
   "language": "python",
   "name": "lhl_bootcamp"
  },
  "language_info": {
   "codemirror_mode": {
    "name": "ipython",
    "version": 3
   },
   "file_extension": ".py",
   "mimetype": "text/x-python",
   "name": "python",
   "nbconvert_exporter": "python",
   "pygments_lexer": "ipython3",
   "version": "3.8.16"
  }
 },
 "nbformat": 4,
 "nbformat_minor": 4
}
